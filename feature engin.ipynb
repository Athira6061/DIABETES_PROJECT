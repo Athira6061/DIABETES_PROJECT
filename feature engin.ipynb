{
 "cells": [
  {
   "cell_type": "code",
   "execution_count": 22,
   "id": "c2330ccc",
   "metadata": {},
   "outputs": [
    {
     "name": "stdout",
     "output_type": "stream",
     "text": [
      "Pregnancies                   0\n",
      "Glucose                       5\n",
      "BloodPressure                35\n",
      "SkinThickness               227\n",
      "Insulin                     374\n",
      "BMI                          11\n",
      "DiabetesPedigreeFunction      0\n",
      "Age                           0\n",
      "Outcome                       0\n",
      "dtype: int64\n"
     ]
    }
   ],
   "source": [
    "import pandas as pd\n",
    "import numpy as np\n",
    "from sklearn.preprocessing import MinMaxScaler\n",
    "from sklearn.preprocessing import LabelEncoder\n",
    "from sklearn.preprocessing import StandardScaler\n",
    "df = pd.read_csv('C:\\\\Python Intern\\\\athiraanil\\\\DIABETES_PROJECT\\\\raw\\\\cleaned_diabetes.csv')\n",
    "\n",
    "cols = ['Glucose', 'BloodPressure', 'SkinThickness', 'Insulin', 'BMI']\n",
    "df[cols] = df[cols].replace(0, np.nan)\n",
    "\n",
    "print(df.isnull().sum())\n",
    "\n"
   ]
  },
  {
   "cell_type": "code",
   "execution_count": 21,
   "id": "2daa770d",
   "metadata": {},
   "outputs": [
    {
     "data": {
      "text/plain": [
       "0      0.166619\n",
       "1     -0.852200\n",
       "2     -1.332500\n",
       "3     -0.633881\n",
       "4      1.549303\n",
       "         ...   \n",
       "763    0.064737\n",
       "764    0.632365\n",
       "765   -0.910418\n",
       "766   -0.342790\n",
       "767   -0.299127\n",
       "Name: BMI, Length: 768, dtype: float64"
      ]
     },
     "execution_count": 21,
     "metadata": {},
     "output_type": "execute_result"
    }
   ],
   "source": [
    "\n",
    "df['Glucose'] = df['Glucose'].fillna(df['Glucose'].median())\n",
    "df['BloodPressure'].fillna(df['BloodPressure'].median())\n",
    "df['SkinThickness'].fillna(df['SkinThickness'].median())\n",
    "df['Insulin'].fillna(df['Insulin'].median())\n",
    "df['BMI'].fillna(df['BMI'].median())\n"
   ]
  },
  {
   "cell_type": "code",
   "execution_count": 25,
   "id": "61373f4e",
   "metadata": {},
   "outputs": [
    {
     "name": "stdout",
     "output_type": "stream",
     "text": [
      "Pregnancies                   0\n",
      "Glucose                       5\n",
      "BloodPressure                35\n",
      "SkinThickness               227\n",
      "Insulin                     374\n",
      "BMI                          11\n",
      "DiabetesPedigreeFunction      0\n",
      "Age                           0\n",
      "Outcome                       0\n",
      "dtype: int64\n"
     ]
    }
   ],
   "source": [
    "cols_with_zero = ['Glucose', 'BloodPressure', 'SkinThickness', 'Insulin', 'BMI']\n",
    "\n",
    "for col in cols_with_zero:\n",
    "    df[col] = df[col].replace(0, df[col].median())\n",
    "print(df.isnull().sum())  "
   ]
  },
  {
   "cell_type": "code",
   "execution_count": 26,
   "id": "3ab6225f",
   "metadata": {},
   "outputs": [],
   "source": [
    "df[\"Glucose\"] = df[\"Glucose\"].fillna(df[\"Glucose\"].median())\n",
    "df[\"BloodPressure\"] = df[\"BloodPressure\"].fillna(df[\"BloodPressure\"].median())\n",
    "df[\"BMI\"] = df[\"BMI\"].fillna(df[\"BMI\"].median())\n",
    "df[\"Insulin\"] = df[\"Insulin\"].fillna(df[\"Insulin\"].median())\n",
    "df[\"SkinThickness\"] = df[\"SkinThickness\"].fillna(df[\"SkinThickness\"].median())"
   ]
  },
  {
   "cell_type": "code",
   "execution_count": 7,
   "id": "4fa91ea2",
   "metadata": {},
   "outputs": [
    {
     "name": "stdout",
     "output_type": "stream",
     "text": [
      "Pregnancies                 0\n",
      "Glucose                     0\n",
      "BloodPressure               0\n",
      "SkinThickness               0\n",
      "Insulin                     0\n",
      "BMI                         0\n",
      "DiabetesPedigreeFunction    0\n",
      "Age                         0\n",
      "Outcome                     0\n",
      "dtype: int64\n"
     ]
    }
   ],
   "source": [
    "print(df.isnull().sum()) \n"
   ]
  },
  {
   "cell_type": "code",
   "execution_count": 27,
   "id": "19338a3a",
   "metadata": {},
   "outputs": [],
   "source": [
    "cols_with_nan = ['Glucose', 'BloodPressure', 'SkinThickness', 'Insulin', 'BMI']\n",
    "df.fillna({col: df[col].median() for col in cols_with_nan}, inplace=True)\n",
    "\n"
   ]
  },
  {
   "cell_type": "code",
   "execution_count": 28,
   "id": "3c265770",
   "metadata": {},
   "outputs": [
    {
     "name": "stdout",
     "output_type": "stream",
     "text": [
      "GLUCOSE_CAT\n",
      "hyperglycemia    0.592593\n",
      "hypoglycemia     0.000000\n",
      "impaired         0.279570\n",
      "normal           0.077348\n",
      "Name: Outcome, dtype: float64\n",
      "GLUCOSE_CAT\n",
      "hyperglycemia    297\n",
      "impaired         279\n",
      "normal           181\n",
      "hypoglycemia      11\n",
      "Name: count, dtype: int64\n"
     ]
    }
   ],
   "source": [
    "#Feature Creation\n",
    "# Glucose Cat\n",
    "df.loc[df['Glucose'] < 70, 'GLUCOSE_CAT'] = 'hypoglycemia'\n",
    "df.loc[(df['Glucose'] >= 70) & (df['Glucose'] < 100), 'GLUCOSE_CAT'] = 'normal'\n",
    "df.loc[(df['Glucose'] >= 100) & (df['Glucose'] < 126), 'GLUCOSE_CAT'] = 'impaired'\n",
    "df.loc[df['Glucose'] >= 126, 'GLUCOSE_CAT'] = 'hyperglycemia'\n",
    "print(df.groupby(\"GLUCOSE_CAT\")[\"Outcome\"].mean())\n",
    "print(df[\"GLUCOSE_CAT\"].value_counts())"
   ]
  },
  {
   "cell_type": "code",
   "execution_count": 29,
   "id": "8b0ab416",
   "metadata": {},
   "outputs": [
    {
     "name": "stdout",
     "output_type": "stream",
     "text": [
      "BMI_CAT\n",
      "normal        0.068627\n",
      "obese_1       0.438298\n",
      "obese_2       0.452830\n",
      "obese_3       0.611111\n",
      "overweight    0.223464\n",
      "thin          0.000000\n",
      "Name: Outcome, dtype: float64\n",
      "BMI_CAT\n",
      "obese_1       235\n",
      "obese_2       212\n",
      "overweight    179\n",
      "normal        102\n",
      "obese_3        36\n",
      "thin            4\n",
      "Name: count, dtype: int64\n"
     ]
    }
   ],
   "source": [
    "df.loc[df['BMI'] < 16, 'BMI_CAT'] = 'underweight'\n",
    "df.loc[(df['BMI'] >= 16) & (df['BMI'] < 18.5), 'BMI_CAT'] = 'thin'\n",
    "df.loc[(df['BMI'] >= 18.5) & (df['BMI'] < 25), 'BMI_CAT'] = 'normal'\n",
    "df.loc[(df['BMI'] >= 25) & (df['BMI'] < 30), 'BMI_CAT'] = 'overweight'\n",
    "df.loc[(df['BMI'] >= 30) & (df['BMI'] < 35), 'BMI_CAT'] = 'obese_1'\n",
    "df.loc[(df['BMI'] >= 35) & (df['BMI'] < 45), 'BMI_CAT'] = 'obese_2'\n",
    "df.loc[df['BMI'] >= 45, 'BMI_CAT'] = 'obese_3'\n",
    "print(df.groupby(\"BMI_CAT\")[\"Outcome\"].mean())\n",
    "print(df[\"BMI_CAT\"].value_counts())"
   ]
  },
  {
   "cell_type": "code",
   "execution_count": 30,
   "id": "467b87df",
   "metadata": {},
   "outputs": [
    {
     "name": "stdout",
     "output_type": "stream",
     "text": [
      "AGE_CAT\n",
      "mature        0.493724\n",
      "middle_age    0.529915\n",
      "old           0.250000\n",
      "young         0.212121\n",
      "Name: Outcome, dtype: float64\n",
      "AGE_CAT\n",
      "young         396\n",
      "mature        239\n",
      "middle_age    117\n",
      "old            16\n",
      "Name: count, dtype: int64\n"
     ]
    }
   ],
   "source": [
    "df.loc[(df['Age'] >= 18) & (df['Age'] < 30), 'AGE_CAT'] = \"young\"\n",
    "df.loc[(df['Age'] >= 30) & (df['Age'] < 45), 'AGE_CAT'] = \"mature\"\n",
    "df.loc[(df['Age'] >= 45) & (df['Age'] < 65), 'AGE_CAT'] = \"middle_age\"\n",
    "df.loc[(df['Age'] >= 65), 'AGE_CAT'] = \"old\"\n",
    "print(df.groupby(\"AGE_CAT\")[\"Outcome\"].mean())\n",
    "print(df[\"AGE_CAT\"].value_counts())\n"
   ]
  },
  {
   "cell_type": "code",
   "execution_count": 31,
   "id": "f8290e5b",
   "metadata": {},
   "outputs": [
    {
     "name": "stdout",
     "output_type": "stream",
     "text": [
      "DIASTOLIC_CAT\n",
      "high      0.483333\n",
      "low       0.247350\n",
      "normal    0.397647\n",
      "Name: Outcome, dtype: float64\n",
      "DIASTOLIC_CAT\n",
      "normal    425\n",
      "low       283\n",
      "high       60\n",
      "Name: count, dtype: int64\n"
     ]
    }
   ],
   "source": [
    "df.loc[df['BloodPressure'] < 70, 'DIASTOLIC_CAT'] = 'low'\n",
    "df.loc[(df['BloodPressure'] >= 70) & (df['BloodPressure'] < 90), 'DIASTOLIC_CAT'] = 'normal'\n",
    "df.loc[df['BloodPressure'] >= 90, 'DIASTOLIC_CAT'] = 'high'\n",
    "print(df.groupby(\"DIASTOLIC_CAT\")[\"Outcome\"].mean())\n",
    "print(df[\"DIASTOLIC_CAT\"].value_counts())\n"
   ]
  },
  {
   "cell_type": "code",
   "execution_count": 32,
   "id": "3a9dcb3e",
   "metadata": {},
   "outputs": [
    {
     "name": "stdout",
     "output_type": "stream",
     "text": [
      "INSULIN_CAT\n",
      "abnormal    0.414384\n",
      "normal      0.141304\n",
      "Name: Outcome, dtype: float64\n",
      "INSULIN_CAT\n",
      "abnormal    584\n",
      "normal      184\n",
      "Name: count, dtype: int64\n"
     ]
    }
   ],
   "source": [
    "df.loc[(df['Insulin'] < 120), 'INSULIN_CAT'] = \"normal\"\n",
    "df.loc[(df['Insulin'] >= 120), 'INSULIN_CAT'] = \"abnormal\"\n",
    "print(df.groupby(\"INSULIN_CAT\")[\"Outcome\"].mean())\n",
    "print(df[\"INSULIN_CAT\"].value_counts())\n"
   ]
  },
  {
   "cell_type": "code",
   "execution_count": 33,
   "id": "7d19fae4",
   "metadata": {},
   "outputs": [
    {
     "name": "stdout",
     "output_type": "stream",
     "text": [
      "PREG_CAT\n",
      "high          0.491892\n",
      "normal        0.271689\n",
      "unpregnant    0.342342\n",
      "very high     0.588235\n",
      "Name: Outcome, dtype: float64\n",
      "PREG_CAT\n",
      "normal        438\n",
      "high          185\n",
      "unpregnant    111\n",
      "very high      34\n",
      "Name: count, dtype: int64\n"
     ]
    }
   ],
   "source": [
    "df.loc[(df['Pregnancies'] == 0), 'PREG_CAT'] = \"unpregnant\"\n",
    "df.loc[(df['Pregnancies'] > 0) & (df['Pregnancies'] <= 5), 'PREG_CAT'] = \"normal\"\n",
    "df.loc[(df['Pregnancies'] > 5) & (df['Pregnancies'] <= 10), 'PREG_CAT'] = \"high\"\n",
    "df.loc[(df['Pregnancies'] > 10), 'PREG_CAT'] = \"very high\"\n",
    "print(df.groupby(\"PREG_CAT\")[\"Outcome\"].mean())\n",
    "print(df[\"PREG_CAT\"].value_counts())\n"
   ]
  },
  {
   "cell_type": "code",
   "execution_count": null,
   "id": "c1eb52d6",
   "metadata": {},
   "outputs": [
    {
     "name": "stdout",
     "output_type": "stream",
     "text": [
      "Empty DataFrame\n",
      "Columns: []\n",
      "Index: [0, 1, 2, 3, 4]\n"
     ]
    }
   ],
   "source": [
    "# Label encoding \n",
    "le = LabelEncoder()\n",
    "binary_cols = [col for col in df.columns if df[col].dtype == 'object' and df[col].nunique() == 2]\n",
    "for col in binary_cols:\n",
    "    df[col] = le.fit_transform(df[col])\n",
    "print(df[binary_cols].head())"
   ]
  },
  {
   "cell_type": "code",
   "execution_count": 34,
   "id": "08d74184",
   "metadata": {},
   "outputs": [
    {
     "name": "stdout",
     "output_type": "stream",
     "text": [
      "   Pregnancies  Glucose  BloodPressure  SkinThickness  Insulin   BMI  \\\n",
      "0            6    148.0           72.0           35.0    125.0  33.6   \n",
      "1            1     85.0           66.0           29.0    125.0  26.6   \n",
      "2            8    183.0           64.0           29.0    125.0  23.3   \n",
      "3            1     89.0           66.0           23.0     94.0  28.1   \n",
      "4            0    137.0           40.0           35.0    168.0  43.1   \n",
      "\n",
      "   DiabetesPedigreeFunction  Age  Outcome INSULIN_CAT  ...  \\\n",
      "0                     0.627   50        1    abnormal  ...   \n",
      "1                     0.351   31        0    abnormal  ...   \n",
      "2                     0.672   32        1    abnormal  ...   \n",
      "3                     0.167   21        0      normal  ...   \n",
      "4                     2.288   33        1    abnormal  ...   \n",
      "\n",
      "   BMI_CAT_overweight  BMI_CAT_thin  AGE_CAT_middle_age  AGE_CAT_old  \\\n",
      "0               False         False                True        False   \n",
      "1                True         False               False        False   \n",
      "2               False         False               False        False   \n",
      "3                True         False               False        False   \n",
      "4               False         False               False        False   \n",
      "\n",
      "   AGE_CAT_young  DIASTOLIC_CAT_low  DIASTOLIC_CAT_normal  PREG_CAT_normal  \\\n",
      "0          False              False                  True            False   \n",
      "1          False               True                 False             True   \n",
      "2          False               True                 False            False   \n",
      "3           True               True                 False             True   \n",
      "4          False               True                 False            False   \n",
      "\n",
      "   PREG_CAT_unpregnant  PREG_CAT_very high  \n",
      "0                False               False  \n",
      "1                False               False  \n",
      "2                False               False  \n",
      "3                False               False  \n",
      "4                 True               False  \n",
      "\n",
      "[5 rows x 26 columns]\n"
     ]
    }
   ],
   "source": [
    "\n",
    "# One hot encding\n",
    "ohe_cols = [col for col in df.columns if df[col].dtype == 'object' and df[col].nunique() > 2]\n",
    "df = pd.get_dummies(df, columns=ohe_cols, drop_first=True)\n",
    "print(df.head()) "
   ]
  },
  {
   "cell_type": "code",
   "execution_count": 17,
   "id": "195a1015",
   "metadata": {},
   "outputs": [],
   "source": [
    "#standardization\n",
    "num_cols = ['Pregnancies', 'Glucose', 'BloodPressure', \n",
    "            'SkinThickness', 'Insulin', 'BMI', \n",
    "            'DiabetesPedigreeFunction', 'Age']\n"
   ]
  },
  {
   "cell_type": "code",
   "execution_count": 18,
   "id": "21c306e0",
   "metadata": {},
   "outputs": [
    {
     "name": "stdout",
     "output_type": "stream",
     "text": [
      "   Pregnancies   Glucose  BloodPressure  SkinThickness   Insulin       BMI  \\\n",
      "0     0.639947  0.866045      -0.031990       0.670643 -0.181541  0.166619   \n",
      "1    -0.844885 -1.205066      -0.528319      -0.012301 -0.181541 -0.852200   \n",
      "2     1.233880  2.016662      -0.693761      -0.012301 -0.181541 -1.332500   \n",
      "3    -0.844885 -1.073567      -0.528319      -0.695245 -0.540642 -0.633881   \n",
      "4    -1.141852  0.504422      -2.679076       0.670643  0.316566  1.549303   \n",
      "\n",
      "   DiabetesPedigreeFunction       Age  Outcome  INSULIN_CAT  ...  \\\n",
      "0                  0.468492  1.425995        1    -0.561310  ...   \n",
      "1                 -0.365061 -0.190672        0    -0.561310  ...   \n",
      "2                  0.604397 -0.105584        1    -0.561310  ...   \n",
      "3                 -0.920763 -1.041549        0     1.781548  ...   \n",
      "4                  5.484909 -0.020496        1    -0.561310  ...   \n",
      "\n",
      "   BMI_CAT_overweight  BMI_CAT_thin  AGE_CAT_middle_age  AGE_CAT_old  \\\n",
      "0               False         False                True        False   \n",
      "1                True         False               False        False   \n",
      "2               False         False               False        False   \n",
      "3                True         False               False        False   \n",
      "4               False         False               False        False   \n",
      "\n",
      "   AGE_CAT_young  DIASTOLIC_CAT_low  DIASTOLIC_CAT_normal  PREG_CAT_normal  \\\n",
      "0          False              False                  True            False   \n",
      "1          False               True                 False             True   \n",
      "2          False               True                 False            False   \n",
      "3           True               True                 False             True   \n",
      "4          False               True                 False            False   \n",
      "\n",
      "   PREG_CAT_unpregnant  PREG_CAT_very high  \n",
      "0                False               False  \n",
      "1                False               False  \n",
      "2                False               False  \n",
      "3                False               False  \n",
      "4                 True               False  \n",
      "\n",
      "[5 rows x 26 columns]\n",
      "Index(['Pregnancies', 'Glucose', 'BloodPressure', 'SkinThickness', 'Insulin',\n",
      "       'BMI', 'DiabetesPedigreeFunction', 'Age', 'Outcome', 'INSULIN_CAT',\n",
      "       'GLUCOSE_CAT_hypoglycemia', 'GLUCOSE_CAT_impaired',\n",
      "       'GLUCOSE_CAT_normal', 'BMI_CAT_obese_1', 'BMI_CAT_obese_2',\n",
      "       'BMI_CAT_obese_3', 'BMI_CAT_overweight', 'BMI_CAT_thin',\n",
      "       'AGE_CAT_middle_age', 'AGE_CAT_old', 'AGE_CAT_young',\n",
      "       'DIASTOLIC_CAT_low', 'DIASTOLIC_CAT_normal', 'PREG_CAT_normal',\n",
      "       'PREG_CAT_unpregnant', 'PREG_CAT_very high'],\n",
      "      dtype='object')\n"
     ]
    }
   ],
   "source": [
    "# Scaling\n",
    "num_cols = df.select_dtypes(include=['int64', 'float64']).columns.drop('Outcome')\n",
    "scaler = StandardScaler()\n",
    "df[num_cols] = scaler.fit_transform(df[num_cols])\n",
    "print(df.head())\n",
    "print(df.columns)\n"
   ]
  },
  {
   "cell_type": "code",
   "execution_count": 19,
   "id": "ec6a6cc2",
   "metadata": {},
   "outputs": [
    {
     "data": {
      "text/html": [
       "<div>\n",
       "<style scoped>\n",
       "    .dataframe tbody tr th:only-of-type {\n",
       "        vertical-align: middle;\n",
       "    }\n",
       "\n",
       "    .dataframe tbody tr th {\n",
       "        vertical-align: top;\n",
       "    }\n",
       "\n",
       "    .dataframe thead th {\n",
       "        text-align: right;\n",
       "    }\n",
       "</style>\n",
       "<table border=\"1\" class=\"dataframe\">\n",
       "  <thead>\n",
       "    <tr style=\"text-align: right;\">\n",
       "      <th></th>\n",
       "      <th>Pregnancies</th>\n",
       "      <th>Glucose</th>\n",
       "      <th>BloodPressure</th>\n",
       "      <th>SkinThickness</th>\n",
       "      <th>Insulin</th>\n",
       "      <th>BMI</th>\n",
       "      <th>DiabetesPedigreeFunction</th>\n",
       "      <th>Age</th>\n",
       "      <th>Outcome</th>\n",
       "      <th>INSULIN_CAT</th>\n",
       "      <th>...</th>\n",
       "      <th>BMI_CAT_overweight</th>\n",
       "      <th>BMI_CAT_thin</th>\n",
       "      <th>AGE_CAT_middle_age</th>\n",
       "      <th>AGE_CAT_old</th>\n",
       "      <th>AGE_CAT_young</th>\n",
       "      <th>DIASTOLIC_CAT_low</th>\n",
       "      <th>DIASTOLIC_CAT_normal</th>\n",
       "      <th>PREG_CAT_normal</th>\n",
       "      <th>PREG_CAT_unpregnant</th>\n",
       "      <th>PREG_CAT_very high</th>\n",
       "    </tr>\n",
       "  </thead>\n",
       "  <tbody>\n",
       "    <tr>\n",
       "      <th>0</th>\n",
       "      <td>0.639947</td>\n",
       "      <td>0.866045</td>\n",
       "      <td>-0.031990</td>\n",
       "      <td>0.670643</td>\n",
       "      <td>-0.181541</td>\n",
       "      <td>0.166619</td>\n",
       "      <td>0.468492</td>\n",
       "      <td>1.425995</td>\n",
       "      <td>1</td>\n",
       "      <td>-0.561310</td>\n",
       "      <td>...</td>\n",
       "      <td>False</td>\n",
       "      <td>False</td>\n",
       "      <td>True</td>\n",
       "      <td>False</td>\n",
       "      <td>False</td>\n",
       "      <td>False</td>\n",
       "      <td>True</td>\n",
       "      <td>False</td>\n",
       "      <td>False</td>\n",
       "      <td>False</td>\n",
       "    </tr>\n",
       "    <tr>\n",
       "      <th>1</th>\n",
       "      <td>-0.844885</td>\n",
       "      <td>-1.205066</td>\n",
       "      <td>-0.528319</td>\n",
       "      <td>-0.012301</td>\n",
       "      <td>-0.181541</td>\n",
       "      <td>-0.852200</td>\n",
       "      <td>-0.365061</td>\n",
       "      <td>-0.190672</td>\n",
       "      <td>0</td>\n",
       "      <td>-0.561310</td>\n",
       "      <td>...</td>\n",
       "      <td>True</td>\n",
       "      <td>False</td>\n",
       "      <td>False</td>\n",
       "      <td>False</td>\n",
       "      <td>False</td>\n",
       "      <td>True</td>\n",
       "      <td>False</td>\n",
       "      <td>True</td>\n",
       "      <td>False</td>\n",
       "      <td>False</td>\n",
       "    </tr>\n",
       "    <tr>\n",
       "      <th>2</th>\n",
       "      <td>1.233880</td>\n",
       "      <td>2.016662</td>\n",
       "      <td>-0.693761</td>\n",
       "      <td>-0.012301</td>\n",
       "      <td>-0.181541</td>\n",
       "      <td>-1.332500</td>\n",
       "      <td>0.604397</td>\n",
       "      <td>-0.105584</td>\n",
       "      <td>1</td>\n",
       "      <td>-0.561310</td>\n",
       "      <td>...</td>\n",
       "      <td>False</td>\n",
       "      <td>False</td>\n",
       "      <td>False</td>\n",
       "      <td>False</td>\n",
       "      <td>False</td>\n",
       "      <td>True</td>\n",
       "      <td>False</td>\n",
       "      <td>False</td>\n",
       "      <td>False</td>\n",
       "      <td>False</td>\n",
       "    </tr>\n",
       "    <tr>\n",
       "      <th>3</th>\n",
       "      <td>-0.844885</td>\n",
       "      <td>-1.073567</td>\n",
       "      <td>-0.528319</td>\n",
       "      <td>-0.695245</td>\n",
       "      <td>-0.540642</td>\n",
       "      <td>-0.633881</td>\n",
       "      <td>-0.920763</td>\n",
       "      <td>-1.041549</td>\n",
       "      <td>0</td>\n",
       "      <td>1.781548</td>\n",
       "      <td>...</td>\n",
       "      <td>True</td>\n",
       "      <td>False</td>\n",
       "      <td>False</td>\n",
       "      <td>False</td>\n",
       "      <td>True</td>\n",
       "      <td>True</td>\n",
       "      <td>False</td>\n",
       "      <td>True</td>\n",
       "      <td>False</td>\n",
       "      <td>False</td>\n",
       "    </tr>\n",
       "    <tr>\n",
       "      <th>4</th>\n",
       "      <td>-1.141852</td>\n",
       "      <td>0.504422</td>\n",
       "      <td>-2.679076</td>\n",
       "      <td>0.670643</td>\n",
       "      <td>0.316566</td>\n",
       "      <td>1.549303</td>\n",
       "      <td>5.484909</td>\n",
       "      <td>-0.020496</td>\n",
       "      <td>1</td>\n",
       "      <td>-0.561310</td>\n",
       "      <td>...</td>\n",
       "      <td>False</td>\n",
       "      <td>False</td>\n",
       "      <td>False</td>\n",
       "      <td>False</td>\n",
       "      <td>False</td>\n",
       "      <td>True</td>\n",
       "      <td>False</td>\n",
       "      <td>False</td>\n",
       "      <td>True</td>\n",
       "      <td>False</td>\n",
       "    </tr>\n",
       "  </tbody>\n",
       "</table>\n",
       "<p>5 rows × 26 columns</p>\n",
       "</div>"
      ],
      "text/plain": [
       "   Pregnancies   Glucose  BloodPressure  SkinThickness   Insulin       BMI  \\\n",
       "0     0.639947  0.866045      -0.031990       0.670643 -0.181541  0.166619   \n",
       "1    -0.844885 -1.205066      -0.528319      -0.012301 -0.181541 -0.852200   \n",
       "2     1.233880  2.016662      -0.693761      -0.012301 -0.181541 -1.332500   \n",
       "3    -0.844885 -1.073567      -0.528319      -0.695245 -0.540642 -0.633881   \n",
       "4    -1.141852  0.504422      -2.679076       0.670643  0.316566  1.549303   \n",
       "\n",
       "   DiabetesPedigreeFunction       Age  Outcome  INSULIN_CAT  ...  \\\n",
       "0                  0.468492  1.425995        1    -0.561310  ...   \n",
       "1                 -0.365061 -0.190672        0    -0.561310  ...   \n",
       "2                  0.604397 -0.105584        1    -0.561310  ...   \n",
       "3                 -0.920763 -1.041549        0     1.781548  ...   \n",
       "4                  5.484909 -0.020496        1    -0.561310  ...   \n",
       "\n",
       "   BMI_CAT_overweight  BMI_CAT_thin  AGE_CAT_middle_age  AGE_CAT_old  \\\n",
       "0               False         False                True        False   \n",
       "1                True         False               False        False   \n",
       "2               False         False               False        False   \n",
       "3                True         False               False        False   \n",
       "4               False         False               False        False   \n",
       "\n",
       "   AGE_CAT_young  DIASTOLIC_CAT_low  DIASTOLIC_CAT_normal  PREG_CAT_normal  \\\n",
       "0          False              False                  True            False   \n",
       "1          False               True                 False             True   \n",
       "2          False               True                 False            False   \n",
       "3           True               True                 False             True   \n",
       "4          False               True                 False            False   \n",
       "\n",
       "   PREG_CAT_unpregnant  PREG_CAT_very high  \n",
       "0                False               False  \n",
       "1                False               False  \n",
       "2                False               False  \n",
       "3                False               False  \n",
       "4                 True               False  \n",
       "\n",
       "[5 rows x 26 columns]"
      ]
     },
     "execution_count": 19,
     "metadata": {},
     "output_type": "execute_result"
    }
   ],
   "source": [
    "df.head()"
   ]
  }
 ],
 "metadata": {
  "kernelspec": {
   "display_name": "env",
   "language": "python",
   "name": "python3"
  },
  "language_info": {
   "codemirror_mode": {
    "name": "ipython",
    "version": 3
   },
   "file_extension": ".py",
   "mimetype": "text/x-python",
   "name": "python",
   "nbconvert_exporter": "python",
   "pygments_lexer": "ipython3",
   "version": "3.12.0"
  }
 },
 "nbformat": 4,
 "nbformat_minor": 5
}
